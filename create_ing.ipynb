{
 "cells": [
  {
   "cell_type": "code",
   "execution_count": 59,
   "metadata": {},
   "outputs": [],
   "source": [
    "import pandas as pd\n",
    "import csv"
   ]
  },
  {
   "cell_type": "code",
   "execution_count": 60,
   "metadata": {},
   "outputs": [],
   "source": [
    "values = pd.read_csv(\"FruitFlavorPairingChart.csv\").to_numpy()\n",
    "all_ingredients = []"
   ]
  },
  {
   "cell_type": "code",
   "execution_count": 61,
   "metadata": {},
   "outputs": [
    {
     "name": "stdout",
     "output_type": "stream",
     "text": [
      "[['raspberry', 'fruit'], ['currant', 'fruit'], ['fig', 'fruit'], ['nectarines', 'fruit'], ['papaya', 'fruit'], ['strawberry', 'fruit'], ['lychee', 'fruit'], ['cherry', 'fruit'], ['mango', 'fruit'], ['watermelon', 'fruit'], ['apricot', 'fruit'], ['cantaloupe', 'fruit'], ['blood orange', 'fruit'], ['orange', 'fruit'], ['melon', 'fruit'], ['guava', 'fruit'], ['persimmon', 'fruit'], ['passion fruit', 'fruit'], ['pomegranate', 'fruit'], ['tangerine', 'fruit'], ['pumpkin', 'fruit'], ['kumquat', 'fruit'], ['rhubarb', 'fruit'], ['kiwi', 'fruit'], ['banana', 'fruit'], ['gooseberry', 'fruit'], ['honeydew', 'fruit'], ['lemon', 'fruit'], ['blueberry', 'fruit'], ['prune', 'fruit'], ['quince', 'fruit'], ['grape', 'fruit'], ['apple', 'fruit'], ['avocado', 'fruit'], ['pineapple', 'fruit'], ['plum', 'fruit'], ['blackberry', 'fruit'], ['peach', 'fruit'], ['cranberry', 'fruit'], ['date', 'fruit'], ['grapefruit', 'fruit'], ['boysenberry', 'fruit'], ['pear', 'fruit'], ['lime', 'fruit'], ['tomato', 'fruit'], ['nectarine', 'fruit'], ['coconut', 'fruit']]\n"
     ]
    }
   ],
   "source": [
    "all_fruits = []\n",
    "\n",
    "for value in values[:,2]:\n",
    "    fruits = value.lower().split(\", \")\n",
    "    all_fruits = all_fruits + fruits\n",
    "    \n",
    "all_fruits = list(set(all_fruits))\n",
    "\n",
    "all_ingredients = all_ingredients + all_fruits\n",
    "\n",
    "all_fruits = list(map(lambda x: [x,\"fruit\"],all_fruits))\n",
    "print(all_fruits)\n"
   ]
  },
  {
   "cell_type": "code",
   "execution_count": 62,
   "metadata": {},
   "outputs": [
    {
     "name": "stdout",
     "output_type": "stream",
     "text": [
      "[['macadamia', 'flavor'], ['poppy seed', 'flavor'], ['sage', 'flavor'], ['kaffir leaf', 'flavor'], ['coriander', 'flavor'], ['turmeric', 'flavor'], ['cinnamon', 'flavor'], ['lemongrass', 'flavor'], ['mace', 'flavor'], ['allspice', 'flavor'], ['thyme', 'flavor'], ['star anise', 'flavor'], ['cardamom', 'flavor'], ['oregano', 'flavor'], ['cumin', 'flavor'], ['mint', 'flavor'], ['nutmeg', 'flavor'], ['bay leaf', 'flavor'], ['tarragon', 'flavor'], ['cayenne', 'flavor'], ['rosemary', 'flavor'], ['paprika', 'flavor'], ['cilantro', 'flavor'], ['ginger', 'flavor'], ['lavender', 'flavor'], ['almond', 'flavor'], ['parsley', 'flavor'], ['cloves', 'flavor'], ['saffron', 'flavor'], ['basil', 'flavor']]\n"
     ]
    }
   ],
   "source": [
    "all_spices_and_herbs =[]\n",
    "\n",
    "for value in values[:,3]:\n",
    "    if(type(value) != float):\n",
    "        spices_and_herbs = value.lower().split(\", \")\n",
    "        all_spices_and_herbs = all_spices_and_herbs + spices_and_herbs\n",
    "    \n",
    "all_spices_and_herbs = list(set(all_spices_and_herbs))\n",
    "\n",
    "all_ingredients = all_ingredients + all_spices_and_herbs\n",
    "\n",
    "all_spices_and_herbs = list(map(lambda x: [x,\"flavor\"],all_spices_and_herbs))\n",
    "print(all_spices_and_herbs)"
   ]
  },
  {
   "cell_type": "code",
   "execution_count": 63,
   "metadata": {},
   "outputs": [
    {
     "name": "stdout",
     "output_type": "stream",
     "text": [
      "[['pistachio', 'nut'], ['macadamia', 'nut'], ['pine nut', 'nut'], ['pecan', 'nut'], ['almond', 'nut'], ['peanut', 'nut'], ['chestnut', 'nut'], ['cashew', 'nut'], ['hazelnut', 'nut'], ['walnut', 'nut'], ['brazil nut', 'nut']]\n"
     ]
    }
   ],
   "source": [
    "all_nuts = []\n",
    "\n",
    "for value in values[:,4]:\n",
    "    if(type(value) != float):\n",
    "        nuts = value.lower().split(\", \")\n",
    "        all_nuts = all_nuts + nuts\n",
    "    \n",
    "all_nuts = list(set(all_nuts))\n",
    "\n",
    "all_ingredients = all_ingredients + all_nuts\n",
    "\n",
    "all_nuts = list(map(lambda x: [x,\"nut\"],all_nuts))\n",
    "print(all_nuts)"
   ]
  },
  {
   "cell_type": "code",
   "execution_count": 64,
   "metadata": {},
   "outputs": [
    {
     "name": "stdout",
     "output_type": "stream",
     "text": [
      "[['cassis', 'spirts'], ['rum', 'spirts'], ['orange liqueur', 'spirts'], ['whiskey', 'spirts'], ['framboise', 'spirts'], ['brandy', 'spirts'], ['calvados', 'spirts'], ['banana liqueur', 'spirts'], ['armagnac', 'spirts'], ['rosé', 'spirts'], ['bourbon', 'spirts'], ['kirsch', 'spirts'], ['triple sec', 'spirts'], ['campari', 'spirts'], ['elderflower liqueur', 'spirts'], ['madeira', 'spirts'], ['pear brandy', 'spirts'], ['grand marnier', 'spirts'], ['crème de cassis', 'spirts'], ['gin', 'spirts'], ['sake', 'spirts'], ['peach liqueur', 'spirts'], ['amaretto', 'spirts'], ['vodka', 'spirts'], ['white wine', 'spirts'], ['cointreau', 'spirts'], ['tequila', 'spirts'], ['almond liqueur', 'spirts'], ['vin santo', 'spirts'], ['port', 'spirts'], ['red wine', 'spirts'], ['ice wine', 'spirts'], ['champagne', 'spirts'], ['sweet wine', 'spirts'], ['cognac', 'spirts'], ['vermouth', 'spirts'], ['sherry', 'spirts']]\n"
     ]
    }
   ],
   "source": [
    "all_spirts = []\n",
    "\n",
    "for value in values[:,5]:\n",
    "    if(type(value) != float):\n",
    "        spirts = value.lower().split(\", \")\n",
    "        all_spirts = all_spirts + spirts\n",
    "    \n",
    "all_spirts = list(set(all_spirts))\n",
    "\n",
    "all_ingredients = all_ingredients + all_spirts\n",
    "\n",
    "all_spirts = list(map(lambda x: [x,\"spirts\"],all_spirts))\n",
    "print(all_spirts)"
   ]
  },
  {
   "cell_type": "code",
   "execution_count": 65,
   "metadata": {},
   "outputs": [
    {
     "name": "stdout",
     "output_type": "stream",
     "text": [
      "[['crème fraîche', 'other'], ['chocolate', 'other'], ['rose water', 'other'], ['white chocolate', 'other'], ['caramel', 'other'], ['grenadine', 'other'], ['brown sugar', 'other'], ['molasses', 'other'], ['coconut milk', 'other'], ['orange blossom water', 'other'], ['honey', 'other'], ['ricotta', 'other'], ['mascarpone', 'other'], ['vanilla', 'other'], ['maple syrup', 'other'], ['coffee', 'other']]\n"
     ]
    }
   ],
   "source": [
    "all_others = []\n",
    "\n",
    "for value in values[:,6]:\n",
    "    if(type(value) != float):\n",
    "        others = value.lower().split(\", \")\n",
    "        all_others = all_others + others\n",
    "    \n",
    "all_others = list(set(all_others))\n",
    "\n",
    "all_ingredients = all_ingredients + all_others\n",
    "\n",
    "all_others = list(map(lambda x: [x,\"other\"],all_others))\n",
    "print(all_others)"
   ]
  },
  {
   "cell_type": "code",
   "execution_count": null,
   "metadata": {},
   "outputs": [],
   "source": []
  },
  {
   "cell_type": "code",
   "execution_count": 66,
   "metadata": {},
   "outputs": [],
   "source": [
    "pairings = []\n",
    "new_ing = []"
   ]
  },
  {
   "cell_type": "code",
   "execution_count": 67,
   "metadata": {},
   "outputs": [
    {
     "name": "stdout",
     "output_type": "stream",
     "text": [
      "1280\n"
     ]
    }
   ],
   "source": [
    "pairing1 = pd.read_csv(\"FruitFlavorPairingChart.csv\").to_numpy()\n",
    "\n",
    "\n",
    "for i in range(len(pairing1)):\n",
    "    ing1 = pairing1[i,1].lower()\n",
    "    if(ing1 not in all_ingredients):\n",
    "        ana = 1\n",
    "    \n",
    "    for pos in range(2,7):\n",
    "        if(type(pairing1[i,pos]) == str):\n",
    "            ing2list = pairing1[i,pos].lower().split(\", \")\n",
    "            for ing2 in ing2list:\n",
    "                if(ing2 not in all_ingredients):\n",
    "                    ana =2\n",
    "                \n",
    "                if([ing1,ing2] not in pairings and [ing1,ing2] not in pairings):\n",
    "                    pairings.append([ing1,ing2])\n",
    "print(len(pairings))   \n"
   ]
  },
  {
   "cell_type": "code",
   "execution_count": 68,
   "metadata": {},
   "outputs": [
    {
     "name": "stdout",
     "output_type": "stream",
     "text": [
      "['agave', 'anise', 'chilli', 'cucumber', 'celery', 'pepper', 'cassia leaf', 'citrus', 'currants', 'clove', 'maple', 'figs', 'black pepper', 'dill', 'rose', 'juniper', 'matcha', 'chocolate,', 'black current', 'carrot', 'fennel', 'elderberry', 'citrus mango', 'passionfruit', 'jasmine', 'orange blossom', 'toffee', 'chamomile', 'violet', 'pears', 'prunes', 'oranges', 'raisins', 'chillies', 'cherries', 'caramel hazelnut', 'cloudberry', 'citrus fruits', 'cream', 'liquorice', 'tropical fruits', 'lime orange', 'flowers', 'dandelion', 'dragon fruit', 'durian']\n",
      "1615\n"
     ]
    }
   ],
   "source": [
    "pairing2 = pd.read_csv(\"pairing2.csv\").to_numpy()\n",
    "\n",
    "\n",
    "for i in range(len(pairing1)):\n",
    "    \n",
    "    ing1 = pairing2[i,0].lower()\n",
    "    if(ing1==\"honey\"):\n",
    "        print(\"ceva\")\n",
    "    if(ing1 not in all_ingredients):\n",
    "        new_ing.append(ing1)\n",
    "        all_ingredients.append(ing1)\n",
    "    \n",
    "    for pos in range(1,4):\n",
    "        if(type(pairing1[i,pos]) == str):\n",
    "            ing2list = pairing2[i,pos].lower().split(\", \")\n",
    "            for ing2 in ing2list:\n",
    "                if(ing2 not in all_ingredients):\n",
    "                    new_ing.append(ing2)\n",
    "                    all_ingredients.append(ing2)\n",
    "                \n",
    "                if([ing1,ing2] not in pairings and [ing2,ing1] not in pairings):\n",
    "                    pairings.append([ing1,ing2])\n",
    "\n",
    "print(new_ing)   \n",
    "new_ings = list(map(lambda x: [x,\"other\"],new_ing))           \n",
    "print(len(pairings))"
   ]
  },
  {
   "cell_type": "code",
   "execution_count": 69,
   "metadata": {},
   "outputs": [
    {
     "name": "stdout",
     "output_type": "stream",
     "text": [
      "[['raspberry', 'fruit'], ['currant', 'fruit'], ['fig', 'fruit'], ['nectarines', 'fruit'], ['papaya', 'fruit'], ['strawberry', 'fruit'], ['lychee', 'fruit'], ['cherry', 'fruit'], ['mango', 'fruit'], ['watermelon', 'fruit'], ['apricot', 'fruit'], ['cantaloupe', 'fruit'], ['blood orange', 'fruit'], ['orange', 'fruit'], ['melon', 'fruit'], ['guava', 'fruit'], ['persimmon', 'fruit'], ['passion fruit', 'fruit'], ['pomegranate', 'fruit'], ['tangerine', 'fruit'], ['pumpkin', 'fruit'], ['kumquat', 'fruit'], ['rhubarb', 'fruit'], ['kiwi', 'fruit'], ['banana', 'fruit'], ['gooseberry', 'fruit'], ['honeydew', 'fruit'], ['lemon', 'fruit'], ['blueberry', 'fruit'], ['prune', 'fruit'], ['quince', 'fruit'], ['grape', 'fruit'], ['apple', 'fruit'], ['avocado', 'fruit'], ['pineapple', 'fruit'], ['plum', 'fruit'], ['blackberry', 'fruit'], ['peach', 'fruit'], ['cranberry', 'fruit'], ['date', 'fruit'], ['grapefruit', 'fruit'], ['boysenberry', 'fruit'], ['pear', 'fruit'], ['lime', 'fruit'], ['tomato', 'fruit'], ['nectarine', 'fruit'], ['coconut', 'fruit'], ['pistachio', 'nut'], ['macadamia', 'nut'], ['pine nut', 'nut'], ['pecan', 'nut'], ['almond', 'nut'], ['peanut', 'nut'], ['chestnut', 'nut'], ['cashew', 'nut'], ['hazelnut', 'nut'], ['walnut', 'nut'], ['brazil nut', 'nut'], ['macadamia', 'flavor'], ['poppy seed', 'flavor'], ['sage', 'flavor'], ['kaffir leaf', 'flavor'], ['coriander', 'flavor'], ['turmeric', 'flavor'], ['cinnamon', 'flavor'], ['lemongrass', 'flavor'], ['mace', 'flavor'], ['allspice', 'flavor'], ['thyme', 'flavor'], ['star anise', 'flavor'], ['cardamom', 'flavor'], ['oregano', 'flavor'], ['cumin', 'flavor'], ['mint', 'flavor'], ['nutmeg', 'flavor'], ['bay leaf', 'flavor'], ['tarragon', 'flavor'], ['cayenne', 'flavor'], ['rosemary', 'flavor'], ['paprika', 'flavor'], ['cilantro', 'flavor'], ['ginger', 'flavor'], ['lavender', 'flavor'], ['almond', 'flavor'], ['parsley', 'flavor'], ['cloves', 'flavor'], ['saffron', 'flavor'], ['basil', 'flavor'], ['cassis', 'spirts'], ['rum', 'spirts'], ['orange liqueur', 'spirts'], ['whiskey', 'spirts'], ['framboise', 'spirts'], ['brandy', 'spirts'], ['calvados', 'spirts'], ['banana liqueur', 'spirts'], ['armagnac', 'spirts'], ['rosé', 'spirts'], ['bourbon', 'spirts'], ['kirsch', 'spirts'], ['triple sec', 'spirts'], ['campari', 'spirts'], ['elderflower liqueur', 'spirts'], ['madeira', 'spirts'], ['pear brandy', 'spirts'], ['grand marnier', 'spirts'], ['crème de cassis', 'spirts'], ['gin', 'spirts'], ['sake', 'spirts'], ['peach liqueur', 'spirts'], ['amaretto', 'spirts'], ['vodka', 'spirts'], ['white wine', 'spirts'], ['cointreau', 'spirts'], ['tequila', 'spirts'], ['almond liqueur', 'spirts'], ['vin santo', 'spirts'], ['port', 'spirts'], ['red wine', 'spirts'], ['ice wine', 'spirts'], ['champagne', 'spirts'], ['sweet wine', 'spirts'], ['cognac', 'spirts'], ['vermouth', 'spirts'], ['sherry', 'spirts'], ['crème fraîche', 'other'], ['chocolate', 'other'], ['rose water', 'other'], ['white chocolate', 'other'], ['caramel', 'other'], ['grenadine', 'other'], ['brown sugar', 'other'], ['molasses', 'other'], ['coconut milk', 'other'], ['orange blossom water', 'other'], ['honey', 'other'], ['ricotta', 'other'], ['mascarpone', 'other'], ['vanilla', 'other'], ['maple syrup', 'other'], ['coffee', 'other'], ['agave', 'other'], ['anise', 'other'], ['chilli', 'other'], ['cucumber', 'other'], ['celery', 'other'], ['pepper', 'other'], ['cassia leaf', 'other'], ['citrus', 'other'], ['currants', 'other'], ['clove', 'other'], ['maple', 'other'], ['figs', 'other'], ['black pepper', 'other'], ['dill', 'other'], ['rose', 'other'], ['juniper', 'other'], ['matcha', 'other'], ['chocolate,', 'other'], ['black current', 'other'], ['carrot', 'other'], ['fennel', 'other'], ['elderberry', 'other'], ['citrus mango', 'other'], ['passionfruit', 'other'], ['jasmine', 'other'], ['orange blossom', 'other'], ['toffee', 'other'], ['chamomile', 'other'], ['violet', 'other'], ['pears', 'other'], ['prunes', 'other'], ['oranges', 'other'], ['raisins', 'other'], ['chillies', 'other'], ['cherries', 'other'], ['caramel hazelnut', 'other'], ['cloudberry', 'other'], ['citrus fruits', 'other'], ['cream', 'other'], ['liquorice', 'other'], ['tropical fruits', 'other'], ['lime orange', 'other'], ['flowers', 'other'], ['dandelion', 'other'], ['dragon fruit', 'other'], ['durian', 'other']]\n"
     ]
    }
   ],
   "source": [
    "ingredients = all_fruits + all_nuts + all_spices_and_herbs + all_spirts + all_others + new_ings\n",
    "print(ingredients)\n",
    "\n",
    "with open('ingredients.csv', 'w', newline='') as file:\n",
    "    # 2. step\n",
    "    writer = csv.writer(file)\n",
    "    # 3. step\n",
    "    \n",
    "    writer.writerows(ingredients)"
   ]
  },
  {
   "cell_type": "code",
   "execution_count": 70,
   "metadata": {},
   "outputs": [],
   "source": [
    "\n",
    "\n",
    "with open('pairings.csv', 'w', newline='') as file:\n",
    "    # 2. step\n",
    "    writer = csv.writer(file)\n",
    "    # 3. step\n",
    "    \n",
    "    writer.writerows(pairings)\n",
    "\n"
   ]
  }
 ],
 "metadata": {
  "kernelspec": {
   "display_name": "Python 3.10.7 64-bit",
   "language": "python",
   "name": "python3"
  },
  "language_info": {
   "codemirror_mode": {
    "name": "ipython",
    "version": 3
   },
   "file_extension": ".py",
   "mimetype": "text/x-python",
   "name": "python",
   "nbconvert_exporter": "python",
   "pygments_lexer": "ipython3",
   "version": "3.10.7"
  },
  "orig_nbformat": 4,
  "vscode": {
   "interpreter": {
    "hash": "606f2c85f3b011189a850dd4f2b379620bf643f9d97556a1ddc3d9cff21c673a"
   }
  }
 },
 "nbformat": 4,
 "nbformat_minor": 2
}
